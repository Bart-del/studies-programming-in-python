{
  "nbformat": 4,
  "nbformat_minor": 0,
  "metadata": {
    "colab": {
      "name": "sieve_of_eratosthenes.ipynb",
      "provenance": [],
      "authorship_tag": "ABX9TyMMeRGzopkJS87Gg3meTNkl",
      "include_colab_link": true
    },
    "kernelspec": {
      "name": "python3",
      "display_name": "Python 3"
    }
  },
  "cells": [
    {
      "cell_type": "markdown",
      "metadata": {
        "id": "view-in-github",
        "colab_type": "text"
      },
      "source": [
        "<a href=\"https://colab.research.google.com/github/Bart-del/studies-programming-in-python/blob/main/sieve_of_eratosthenes.ipynb\" target=\"_parent\"><img src=\"https://colab.research.google.com/assets/colab-badge.svg\" alt=\"Open In Colab\"/></a>"
      ]
    },
    {
      "cell_type": "markdown",
      "metadata": {
        "id": "ZtOVBF7aoVKt"
      },
      "source": [
        "<h1>Sieve of Eratosthenes</h1>\r\n",
        "\r\n",
        "This is my implementation of <a href=\"https://en.wikipedia.org/wiki/Sieve_of_Eratosthenes\">Sieve of Eratosthenes </a>. In the first line of input, enter the number of consecutive numbers that the program will check to see if they are prime numbers.\r\n"
      ]
    },
    {
      "cell_type": "code",
      "metadata": {
        "id": "58DvrL9XoE3d"
      },
      "source": [
        "import math\r\n",
        "\r\n",
        "e = int(input())\r\n",
        "f = 0\r\n",
        "data = []\r\n",
        "result =[]\r\n",
        "\r\n",
        "for line in iter(input,\"\\n\"):   \r\n",
        "    \r\n",
        "    data.append(line)\r\n",
        "    \r\n",
        "    f = f + 1\r\n",
        "    \r\n",
        "    if f == e:\r\n",
        "        break\r\n",
        "    \r\n",
        "for x in range(0,len(data)):\r\n",
        "    n = data[x]\r\n",
        "    n = int(n) + 1\r\n",
        "    if n < 2:\r\n",
        "        print(\"N\")\r\n",
        "    else:\r\n",
        "        num = [False] * (n + 1)\r\n",
        "        i = 2\r\n",
        "        while i * i <= n:\r\n",
        "            if  not num[i]:\r\n",
        "                j = i * i            \r\n",
        "                while j <= n:\r\n",
        "                    num[j] = True\r\n",
        "                    j += i\r\n",
        "            i += 1\r\n",
        "        for i in range(2, n+1):\r\n",
        "            if not num[i]:\r\n",
        "                result.append(i)\r\n",
        "                \r\n",
        "for x in range(0,len(data)):\r\n",
        "    if int(data[x]) in result:\r\n",
        "        print(\"Y\")\r\n",
        "    else:\r\n",
        "        print(\"N\")"
      ],
      "execution_count": null,
      "outputs": []
    }
  ]
}