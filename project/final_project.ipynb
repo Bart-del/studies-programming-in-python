{
  "nbformat": 4,
  "nbformat_minor": 0,
  "metadata": {
    "colab": {
      "name": "final_project.ipynb",
      "provenance": [],
      "authorship_tag": "ABX9TyPpZu3D1Eq/RW0gjfUHCFMA",
      "include_colab_link": true
    },
    "kernelspec": {
      "name": "python3",
      "display_name": "Python 3"
    }
  },
  "cells": [
    {
      "cell_type": "markdown",
      "metadata": {
        "id": "view-in-github",
        "colab_type": "text"
      },
      "source": [
        "<a href=\"https://colab.research.google.com/github/Bart-del/studies-programming-in-python/blob/main/project/final_project.ipynb\" target=\"_parent\"><img src=\"https://colab.research.google.com/assets/colab-badge.svg\" alt=\"Open In Colab\"/></a>"
      ]
    },
    {
      "cell_type": "markdown",
      "metadata": {
        "id": "JQ62mi10TiMG"
      },
      "source": [
        "**<h1>Final project</h1>**\r\n",
        "\r\n",
        "This is a final project on the subject \"basics of python programming\". The final step was to complete several tasks from the 2017 computer science matura exam."
      ]
    },
    {
      "cell_type": "markdown",
      "metadata": {
        "id": "1TBfiTnBUF-0"
      },
      "source": [
        "<h2>Loading data</h2>\r\n",
        "\r\n"
      ]
    },
    {
      "cell_type": "code",
      "metadata": {
        "id": "Tv3TNv72TQ25"
      },
      "source": [
        "def get_data():\r\n",
        "    result = []\r\n",
        "    try:\r\n",
        "        with open(\"dane.txt\") as data:\r\n",
        "            for x in data:\r\n",
        "                record = x.split(\" \")\r\n",
        "                result.append(record)\r\n",
        "    except FileNotFoundError:\r\n",
        "        print(\"-------------------------\")\r\n",
        "        print(\"Nie znaleziono pliku 'dane.txt' z archiwum Matury z informatyki 2017 roku.\")\r\n",
        "        print(\"-------------------------\")\r\n",
        "\r\n",
        "    return result\r\n",
        "  \r\n",
        "  array = get_data()"
      ],
      "execution_count": null,
      "outputs": []
    },
    {
      "cell_type": "markdown",
      "metadata": {
        "id": "PZRnlsMDU5mI"
      },
      "source": [
        "<h2>Task nr. 1</h2>\r\n",
        "\r\n",
        "Enter the brightness of the brightest and the brightness of the darkest pixel.\r\n",
        "For example.txt data, the result is 255 (lightest) and 0 (darkest)."
      ]
    },
    {
      "cell_type": "code",
      "metadata": {
        "id": "zyEabO6VUBhC"
      },
      "source": [
        "def exercise_one(data):\r\n",
        "    darkest = 155\r\n",
        "    brightest = 155\r\n",
        "    for x in data:\r\n",
        "        record = x\r\n",
        "        for y in record:\r\n",
        "            if int(y) > brightest:\r\n",
        "                brightest = int(y)\r\n",
        "            if int(y) < darkest:\r\n",
        "                darkest = int(y)\r\n",
        "    print(\"------ Zadanie 6.1 ------\")\r\n",
        "    print(\"Brightest:\", brightest)\r\n",
        "    print(\"Darkest:\", darkest)\r\n",
        "    print(\"-------------------------\")\r\n",
        "    return \"------ Zadanie 6.1 ------ \\n\" + \"Brightest:\" + str(brightest) + \"\\n\" + \"Darkest:\"\\\r\n",
        "           + str(darkest) + \"\\n\" + \"------------------------- \\n\"\r\n",
        "\r\n",
        "task1 = exercise_one(array)"
      ],
      "execution_count": null,
      "outputs": []
    },
    {
      "cell_type": "markdown",
      "metadata": {
        "id": "SF_0CIXwVXtQ"
      },
      "source": [
        "<h2>Task nr. 2</h2>\r\n",
        "\r\n",
        "Enter the lowest number of lines that need to be removed for the image to have a vertical axis\r\n",
        "symmetry. The image has a vertical axis of symmetry if the i-th pixel from the left on each line\r\n",
        "takes the same value as the i-th pixel from the right, for any 1 ≤ i ≤ 320."
      ]
    },
    {
      "cell_type": "code",
      "metadata": {
        "id": "mpkyXYloVj7V"
      },
      "source": [
        "def exercise_two(data):\r\n",
        "    result = 0\r\n",
        "    for x in data:\r\n",
        "        record = x\r\n",
        "        for y in range(0, int(len(record))):\r\n",
        "            if int(record[y]) != int(record[319 - y]):\r\n",
        "                result = result + 1\r\n",
        "                break\r\n",
        "            if y == 158:\r\n",
        "                break\r\n",
        "    print(\"------ Zadanie 6.2 ------\")\r\n",
        "    print(result)\r\n",
        "    print(\"-------------------------\")\r\n",
        "    return \"------ Zadanie 6.2 ------ \\n\" + str(result) + \"\\n\" + \"------------------------- \\n\"\r\n",
        "\r\n",
        "task2 = exercise_two(array)"
      ],
      "execution_count": null,
      "outputs": []
    },
    {
      "cell_type": "markdown",
      "metadata": {
        "id": "BYE31LeOWS9y"
      },
      "source": [
        "<h2>Task nr. 3</h2>\r\n",
        "\r\n",
        "Adjacent pixels are pixels that are next to each other on the same line or on the same line\r\n",
        "column. Two adjacent pixels are called contrasting if their values differ\r\n",
        "by more than 128. Enter the number of all such pixels for which there is at least one\r\n",
        "a neighboring pixel contrasting with it."
      ]
    },
    {
      "cell_type": "code",
      "metadata": {
        "id": "Tbu1utJIWfjK"
      },
      "source": [
        "def exercise_three(data):\r\n",
        "    result = 0\r\n",
        "    for x in range(0, 200):\r\n",
        "        for y in range(0, 320):\r\n",
        "            try:\r\n",
        "                if abs(int(data[x][y]) - int(data[x + 1][y])) > 128:\r\n",
        "                    result = result + 1\r\n",
        "                    continue\r\n",
        "            except IndexError:\r\n",
        "                pass\r\n",
        "            try:\r\n",
        "                if x - 1 < 0:\r\n",
        "                    continue\r\n",
        "                if abs(int(data[x][y]) - int(data[x - 1][y])) > 128:\r\n",
        "                    result = result + 1\r\n",
        "                    continue\r\n",
        "            except IndexError:\r\n",
        "                pass\r\n",
        "            try:\r\n",
        "                if y - 1 < 0:\r\n",
        "                    continue\r\n",
        "                if abs(int(data[x][y]) - int(data[x][y - 1])) > 128:\r\n",
        "                    result = result + 1\r\n",
        "                    continue\r\n",
        "            except IndexError:\r\n",
        "                pass\r\n",
        "            try:\r\n",
        "                if x - 1 < 0 or y - 1 < 0:\r\n",
        "                    continue\r\n",
        "                if abs(int(data[x][y]) - int(data[x][y + 1])) > 128:\r\n",
        "                    result = result + 1\r\n",
        "                    continue\r\n",
        "            except IndexError:\r\n",
        "                pass\r\n",
        "    print(\"------ Zadanie 6.3 ------\")\r\n",
        "    print(result)\r\n",
        "    print(\"-------------------------\")\r\n",
        "    return \"------ Zadanie 6.3 ------ \\n\" + str(result) + \"\\n\" + \"------------------------- \\n\"\r\n",
        "\r\n",
        "task3 = exercise_three(array)"
      ],
      "execution_count": null,
      "outputs": []
    },
    {
      "cell_type": "markdown",
      "metadata": {
        "id": "G9ou9wnBWtRG"
      },
      "source": [
        "<h2>Task nr. 4</h2>\r\n",
        "\r\n",
        "Enter the length of the longest vertical line (that is, the sequence of consecutive pixels in the same column\r\n",
        "image), composed of pixels of the same brightness."
      ]
    },
    {
      "cell_type": "code",
      "metadata": {
        "id": "R1h_mKhdW2ca"
      },
      "source": [
        "def exercise_four(data):\r\n",
        "    result = 0\r\n",
        "    local_rec = 0\r\n",
        "    for x in range(0, 320):\r\n",
        "        for y in range(0, 200):\r\n",
        "            try:\r\n",
        "                if data[y][x] == data[y + 1][x]:\r\n",
        "                    if local_rec == 0:\r\n",
        "                        local_rec = local_rec + 2\r\n",
        "                        continue\r\n",
        "                    local_rec = local_rec + 1\r\n",
        "                    continue\r\n",
        "            except IndexError:\r\n",
        "                continue\r\n",
        "            else:\r\n",
        "                if local_rec > result:\r\n",
        "                    result = local_rec\r\n",
        "                local_rec = 0\r\n",
        "    print(\"------ Zadanie 6.4 ------\")\r\n",
        "    print(result)\r\n",
        "    print(\"-------------------------\")\r\n",
        "    return \"------ Zadanie 6.4 ------ \\n\" + str(result) + \"\\n\" + \"------------------------- \\n\"\r\n",
        "\r\n",
        "task3 = exercise_four(array)"
      ],
      "execution_count": null,
      "outputs": []
    },
    {
      "cell_type": "markdown",
      "metadata": {
        "id": "0JZfVn56XD_z"
      },
      "source": [
        "<h2>Generating a file with answers</h2>"
      ]
    },
    {
      "cell_type": "code",
      "metadata": {
        "id": "u3-G5zY0XHZB"
      },
      "source": [
        "ans = \"Bartłomiej Wysocki, Podstawy programowania - Projekt, Zadanie 6 - Matura 2017\\n\" + \"-------------------------\\n\" + one + two + three + four\r\n",
        "\r\n",
        "def generate_answer(ans):\r\n",
        "    try:\r\n",
        "        f = open(\"wyniki6.txt\", \"w+\")\r\n",
        "        f.write(ans)\r\n",
        "        print(\"Udało się wygenerować plik 'wyniki6.txt'\")\r\n",
        "        f.close()\r\n",
        "    except:\r\n",
        "        print(\"Wystapił błąd z generowaniem pliku z odpowiedziami\")\r\n",
        "\r\n",
        "generate_answer(ans)"
      ],
      "execution_count": null,
      "outputs": []
    }
  ]
}